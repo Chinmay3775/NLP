{
  "nbformat": 4,
  "nbformat_minor": 0,
  "metadata": {
    "colab": {
      "provenance": []
    },
    "kernelspec": {
      "name": "python3",
      "display_name": "Python 3"
    },
    "language_info": {
      "name": "python"
    }
  },
  "cells": [
    {
      "cell_type": "markdown",
      "source": [
        "# **Tokenization**"
      ],
      "metadata": {
        "id": "SWDwXXENbELv"
      }
    },
    {
      "cell_type": "code",
      "source": [
        "import nltk\n",
        "# nltk.download('all')\n",
        "from nltk import word_tokenize,sent_tokenize\n",
        "sent=input(\"Enter the sentence for tokenization and Stopword \")\n",
        "print(word_tokenize(sent)) #word tokenization\n",
        "print(sent_tokenize(sent)) #sentence tokenization\n"
      ],
      "metadata": {
        "id": "X-kFr-k8bKiu",
        "colab": {
          "base_uri": "https://localhost:8080/"
        },
        "outputId": "e35b4a83-120e-486d-fa36-003579cb01d2"
      },
      "execution_count": 60,
      "outputs": [
        {
          "output_type": "stream",
          "name": "stdout",
          "text": [
            "Enter the sentence for tokenization and Stopword Python NLTK contains a variety of stemming algorithms, including several types. Let’s examine them down below good better best\n",
            "['Python', 'NLTK', 'contains', 'a', 'variety', 'of', 'stemming', 'algorithms', ',', 'including', 'several', 'types', '.', 'Let', '’', 's', 'examine', 'them', 'down', 'below', 'good', 'better', 'best']\n",
            "['Python NLTK contains a variety of stemming algorithms, including several types.', 'Let’s examine them down below good better best']\n"
          ]
        }
      ]
    },
    {
      "cell_type": "markdown",
      "source": [
        "# **Tokenization**"
      ],
      "metadata": {
        "id": "qfACn-VxktMb"
      }
    },
    {
      "cell_type": "markdown",
      "source": [
        "# **Character Tokenization**"
      ],
      "metadata": {
        "id": "ooS2dfklnob4"
      }
    },
    {
      "cell_type": "code",
      "source": [
        "def char_tokenize(sent):\n",
        "  return [char for char in sent if char!=' ']\n",
        "\n",
        "print(char_tokenize(sent))"
      ],
      "metadata": {
        "colab": {
          "base_uri": "https://localhost:8080/"
        },
        "id": "iYAqiNHQnnh6",
        "outputId": "988ce7a1-2253-4399-b0a0-6ecbbe908746"
      },
      "execution_count": 48,
      "outputs": [
        {
          "output_type": "stream",
          "name": "stdout",
          "text": [
            "['P', 'y', 't', 'h', 'o', 'n', 'N', 'L', 'T', 'K', 'c', 'o', 'n', 't', 'a', 'i', 'n', 's', 'a', 'v', 'a', 'r', 'i', 'e', 't', 'y', 'o', 'f', 's', 't', 'e', 'm', 'm', 'i', 'n', 'g', 'a', 'l', 'g', 'o', 'r', 'i', 't', 'h', 'm', 's', ',', 'i', 'n', 'c', 'l', 'u', 'd', 'i', 'n', 'g', 's', 'e', 'v', 'e', 'r', 'a', 'l', 't', 'y', 'p', 'e', 's', '.', 'L', 'e', 't', '’', 's', 'e', 'x', 'a', 'm', 'i', 'n', 'e', 't', 'h', 'e', 'm', 'd', 'o', 'w', 'n', 'b', 'e', 'l', 'o', 'w', '.', 'b', 'e', 's', 't']\n"
          ]
        }
      ]
    },
    {
      "cell_type": "markdown",
      "source": [
        "# **Stop Word**"
      ],
      "metadata": {
        "id": "v3W6f_QVfHVg"
      }
    },
    {
      "cell_type": "code",
      "source": [
        "from nltk.corpus import stopwords\n",
        "stopwords=set(stopwords.words('english'))\n",
        "print(stopwords)\n",
        "\n"
      ],
      "metadata": {
        "colab": {
          "base_uri": "https://localhost:8080/"
        },
        "id": "3jiWfFdbfPpn",
        "outputId": "9fc783df-2809-4221-928d-dcd1c5774e4e"
      },
      "execution_count": 49,
      "outputs": [
        {
          "output_type": "stream",
          "name": "stdout",
          "text": [
            "{'by', 'itself', 'below', 'isn', 'being', 's', 'through', 'if', 'your', \"that'll\", 'of', 'against', 'why', 'under', 'it', \"mightn't\", 'about', 'same', 'll', \"she's\", 'into', \"hadn't\", 'more', 'here', 'too', 'should', 'shan', 'our', 'because', 'or', \"doesn't\", 'who', 'with', 've', 'to', 'she', 'ourselves', 'there', 'both', 'haven', 'has', \"isn't\", \"you've\", 'between', 'be', 'out', 'do', \"it's\", 'wasn', 'shouldn', 'other', 'which', 'they', 'during', 'having', 'up', 'myself', 'a', \"you'll\", 'over', 'aren', 'at', 'on', 'off', 'than', 'again', 'how', \"should've\", 'was', 'above', 'from', 'm', 'have', 'this', 'did', 'doesn', 'his', 'their', 'now', 'before', 'further', \"don't\", 'such', \"weren't\", 'but', 'nor', 'when', 'can', 'some', 'until', 'yours', 'few', 'these', 'were', 'mustn', 'does', 'i', 'my', 'theirs', 'd', 'don', 'for', 'that', 'own', 'had', \"aren't\", \"needn't\", 'will', 'couldn', 'hers', \"wasn't\", 'you', 'we', 'them', \"you'd\", 'then', 'ain', 'am', 'doing', \"haven't\", 'is', 'an', 'won', 'what', \"didn't\", 'y', 'those', 'most', 'after', 'very', \"won't\", 'no', 'me', \"you're\", 'him', 'needn', 'o', 'so', 'just', 'weren', \"shouldn't\", 'whom', \"shan't\", 'any', 'her', 'herself', 'didn', 'only', 'once', 't', 'yourself', 'himself', 'all', 'while', \"hasn't\", 'where', 'hasn', 'and', 'he', 'themselves', 're', \"wouldn't\", \"mustn't\", 'ours', 'as', 'each', 'been', 'hadn', 'ma', 'not', 'wouldn', 'mightn', 'down', 'in', 'its', 'the', \"couldn't\", 'are', 'yourselves'}\n"
          ]
        }
      ]
    },
    {
      "cell_type": "code",
      "source": [
        "def remove_stop_words(sent):\n",
        "  words=sent.split()\n",
        "  filtered_words=[word for word in words if word not in stopwords]\n",
        "  return ' '.join(filtered_words)\n",
        "\n",
        "filtered_sent=remove_stop_words(sent)\n",
        "print(sent)\n",
        "print(filtered_sent)"
      ],
      "metadata": {
        "colab": {
          "base_uri": "https://localhost:8080/"
        },
        "id": "bQX7snfriwm6",
        "outputId": "fbc68dc2-8b5f-40ff-f855-bbad0fe4550b"
      },
      "execution_count": 61,
      "outputs": [
        {
          "output_type": "stream",
          "name": "stdout",
          "text": [
            "Python NLTK contains a variety of stemming algorithms, including several types. Let’s examine them down below good better best\n",
            "Python NLTK contains variety stemming algorithms, including several types. Let’s examine good better best\n"
          ]
        }
      ]
    },
    {
      "cell_type": "markdown",
      "source": [
        "#**Stemming**"
      ],
      "metadata": {
        "id": "jnIX69o6lrbL"
      }
    },
    {
      "cell_type": "code",
      "source": [
        "from nltk.stem import PorterStemmer\n",
        "porter_stemmer=PorterStemmer()\n",
        "stemmed_words=[porter_stemmer.stem(word) for word in filtered_sent.split()]\n",
        "stemmed=' '.join(stemmed_words)\n",
        "print(stemmed)\n",
        "\n"
      ],
      "metadata": {
        "colab": {
          "base_uri": "https://localhost:8080/"
        },
        "id": "hssF7Yc_lv9R",
        "outputId": "b803c153-b354-4c28-b18f-b3ca4829e8a2"
      },
      "execution_count": 62,
      "outputs": [
        {
          "output_type": "stream",
          "name": "stdout",
          "text": [
            "python nltk contain varieti stem algorithms, includ sever types. let’ examin good better best\n"
          ]
        }
      ]
    },
    {
      "cell_type": "markdown",
      "source": [
        "# **Lemmatization**"
      ],
      "metadata": {
        "id": "qL239YYSoQL7"
      }
    },
    {
      "cell_type": "code",
      "source": [
        "import spacy\n",
        "nlp=spacy.load('en_core_web_sm')\n",
        "doc=nlp(filtered_sent)\n",
        "lemmatization_token=[token.lemma_ for token in doc]\n",
        "lemmatizer=' '.join(lemmatization_token)\n",
        "print(lemmatizer)\n",
        "# from nltk.stem import WordNetLemmatizer\n",
        "# lemmatizer=WordNetLemmatizer()\n"
      ],
      "metadata": {
        "colab": {
          "base_uri": "https://localhost:8080/"
        },
        "id": "MR9XpBNppMzL",
        "outputId": "14395cd1-8951-46da-96b3-06fa74c33dd5"
      },
      "execution_count": 63,
      "outputs": [
        {
          "output_type": "stream",
          "name": "stdout",
          "text": [
            "Python NLTK contain variety stem algorithm , include several type . let ’s examine good well well\n"
          ]
        }
      ]
    },
    {
      "cell_type": "code",
      "source": [],
      "metadata": {
        "id": "yp4wy76kql06"
      },
      "execution_count": null,
      "outputs": []
    }
  ]
}